{
  "nbformat": 4,
  "nbformat_minor": 0,
  "metadata": {
    "colab": {
      "provenance": [],
      "authorship_tag": "ABX9TyOLowfqDNUNcWyXL7kZehsa",
      "include_colab_link": true
    },
    "kernelspec": {
      "name": "python3",
      "display_name": "Python 3"
    },
    "language_info": {
      "name": "python"
    }
  },
  "cells": [
    {
      "cell_type": "markdown",
      "metadata": {
        "id": "view-in-github",
        "colab_type": "text"
      },
      "source": [
        "<a href=\"https://colab.research.google.com/github/pavansai26/-UMAP-DIMENSIONALITY-REDUCTION/blob/master/ideapoke_interview.ipynb\" target=\"_parent\"><img src=\"https://colab.research.google.com/assets/colab-badge.svg\" alt=\"Open In Colab\"/></a>"
      ]
    },
    {
      "cell_type": "code",
      "execution_count": 3,
      "metadata": {
        "colab": {
          "base_uri": "https://localhost:8080/"
        },
        "id": "6PwXVmgRcPUV",
        "outputId": "a35e0181-89a3-4c08-d257-de4583072ff7"
      },
      "outputs": [
        {
          "output_type": "stream",
          "name": "stdout",
          "text": [
            "count 13 element: g\n"
          ]
        }
      ],
      "source": [
        "\"Find the most occurred element and its count from the given list\"\n",
        "\n",
        "\n",
        "lst = ['a','b','b','c','c','d','e','e','e','e','f','f','g']\n",
        "count = 0\n",
        "temp = {}\n",
        "for i in range(0, len(lst)):\n",
        "  temp.append(lst[i])\n",
        "  if lst[i] == lst[i]:\n",
        "    count+=1\n",
        "print(\"count\", count, \"element:\", lst[i])\n"
      ]
    },
    {
      "cell_type": "code",
      "source": [
        "Pairwise multiplication:\n",
        "    list_a = [1, 2, 3, 4]\n",
        "    list_b = [5, 6, 7, 8]"
      ],
      "metadata": {
        "id": "jchGVp3fdmbL"
      },
      "execution_count": null,
      "outputs": []
    },
    {
      "cell_type": "code",
      "source": [
        "list_a = [1, 2, 3, 4]\n",
        "list_b = [5, 6, 7, 8]\n",
        "result = []\n",
        "for i in list_a:\n",
        "  for j in list_b:\n",
        "    result.append(list_a[i]*list_b[j])\n",
        "print(result)"
      ],
      "metadata": {
        "colab": {
          "base_uri": "https://localhost:8080/",
          "height": 232
        },
        "id": "TgawcTZBejwa",
        "outputId": "8937a139-41ae-4f2a-fef7-4c50164221ba"
      },
      "execution_count": 6,
      "outputs": [
        {
          "output_type": "error",
          "ename": "IndexError",
          "evalue": "list index out of range",
          "traceback": [
            "\u001b[0;31m---------------------------------------------------------------------------\u001b[0m",
            "\u001b[0;31mIndexError\u001b[0m                                Traceback (most recent call last)",
            "\u001b[0;32m<ipython-input-6-5907247165d1>\u001b[0m in \u001b[0;36m<cell line: 4>\u001b[0;34m()\u001b[0m\n\u001b[1;32m      4\u001b[0m \u001b[0;32mfor\u001b[0m \u001b[0mi\u001b[0m \u001b[0;32min\u001b[0m \u001b[0mlist_a\u001b[0m\u001b[0;34m:\u001b[0m\u001b[0;34m\u001b[0m\u001b[0;34m\u001b[0m\u001b[0m\n\u001b[1;32m      5\u001b[0m   \u001b[0;32mfor\u001b[0m \u001b[0mj\u001b[0m \u001b[0;32min\u001b[0m \u001b[0mlist_b\u001b[0m\u001b[0;34m:\u001b[0m\u001b[0;34m\u001b[0m\u001b[0;34m\u001b[0m\u001b[0m\n\u001b[0;32m----> 6\u001b[0;31m     \u001b[0mresult\u001b[0m\u001b[0;34m.\u001b[0m\u001b[0mappend\u001b[0m\u001b[0;34m(\u001b[0m\u001b[0mlist_a\u001b[0m\u001b[0;34m[\u001b[0m\u001b[0mi\u001b[0m\u001b[0;34m]\u001b[0m\u001b[0;34m*\u001b[0m\u001b[0mlist_b\u001b[0m\u001b[0;34m[\u001b[0m\u001b[0mj\u001b[0m\u001b[0;34m]\u001b[0m\u001b[0;34m)\u001b[0m\u001b[0;34m\u001b[0m\u001b[0;34m\u001b[0m\u001b[0m\n\u001b[0m\u001b[1;32m      7\u001b[0m \u001b[0mprint\u001b[0m\u001b[0;34m(\u001b[0m\u001b[0mresult\u001b[0m\u001b[0;34m)\u001b[0m\u001b[0;34m\u001b[0m\u001b[0;34m\u001b[0m\u001b[0m\n",
            "\u001b[0;31mIndexError\u001b[0m: list index out of range"
          ]
        }
      ]
    },
    {
      "cell_type": "code",
      "source": [
        "Reverse and print the given input string\n",
        "\n",
        "Input: str_ = 'anlknvapnar'"
      ],
      "metadata": {
        "id": "MYBxmnulfRNJ"
      },
      "execution_count": null,
      "outputs": []
    },
    {
      "cell_type": "code",
      "source": [
        "input_str = 'anlknvapnar'\n",
        "\n",
        "result_str = input_str[::-1]\n",
        "\n",
        "print(\"reversed string\", result_str)"
      ],
      "metadata": {
        "colab": {
          "base_uri": "https://localhost:8080/"
        },
        "id": "t_cOZxygfuXG",
        "outputId": "d9bc9f57-a7d7-445c-b47a-5e2e6d9ec463"
      },
      "execution_count": 7,
      "outputs": [
        {
          "output_type": "stream",
          "name": "stdout",
          "text": [
            "reversed string ranpavnklna\n"
          ]
        }
      ]
    },
    {
      "cell_type": "code",
      "source": [
        "From a given content, how can you pick all the keywords which are most similar to a given topic. Topic - autonomous vehicle\n",
        "    Self-driving cars\n",
        "    Autonomous vehicles\n",
        "    Driverless technology\n",
        "    Automated transportation\n",
        "    Vehicle autonomy\n",
        "    Robotics in automotive\n",
        "    AI-driven vehicles\n",
        "    Connected and autonomous vehicles (CAVs)"
      ],
      "metadata": {
        "id": "lWxgeDRPf9j_"
      },
      "execution_count": null,
      "outputs": []
    },
    {
      "cell_type": "code",
      "source": [],
      "metadata": {
        "id": "lz4qNx-NDp-N"
      },
      "execution_count": null,
      "outputs": []
    },
    {
      "cell_type": "code",
      "source": [],
      "metadata": {
        "id": "fb7cRWuwDqnZ"
      },
      "execution_count": null,
      "outputs": []
    }
  ]
}